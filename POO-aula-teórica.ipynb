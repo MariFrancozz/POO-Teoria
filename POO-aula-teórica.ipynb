{
 "cells": [
  {
   "cell_type": "code",
   "execution_count": 8,
   "id": "a46647ed",
   "metadata": {},
   "outputs": [],
   "source": [
    "class Livro():\n",
    "# Este método vai inicializar cada objeto criado a partir desta classe, o nome deste método é __init__\n",
    "# (self) é uma referência a cada atributo da própria classe (e não de uma classe mãe, por exemplo)\n",
    "    def __init__ (self):\n",
    "# Atributos são propriedades \n",
    "        self.titulo = \"Sapiens - Uma Breve História da Humanidade\"\n",
    "        self.isbn = 9988888\n",
    "        print(\"Construtor chamado para criar um objeto desta classe.\")    \n",
    "# Métodos são funções que executam ações nos objetos da classe\n",
    "    def imprime(self):\n",
    "        print(\"Foi criado o livro %s com ISBN %d\" %(self.titulo, self.isbn))\n",
    "        "
   ]
  },
  {
   "cell_type": "code",
   "execution_count": 9,
   "id": "a01546d4",
   "metadata": {},
   "outputs": [
    {
     "name": "stdout",
     "output_type": "stream",
     "text": [
      "Construtor chamado para criar um objeto desta classe.\n"
     ]
    }
   ],
   "source": [
    "# Criando uma instância da classe Livro\n",
    "Livro1 = Livro()"
   ]
  },
  {
   "cell_type": "code",
   "execution_count": 11,
   "id": "93454d48",
   "metadata": {},
   "outputs": [
    {
     "data": {
      "text/plain": [
       "__main__.Livro"
      ]
     },
     "execution_count": 11,
     "metadata": {},
     "output_type": "execute_result"
    }
   ],
   "source": [
    "# O objeto Livro1 é do tipo Livro\n",
    "type(Livro1)"
   ]
  },
  {
   "cell_type": "code",
   "execution_count": null,
   "id": "23554788",
   "metadata": {},
   "outputs": [],
   "source": []
  }
 ],
 "metadata": {
  "kernelspec": {
   "display_name": "Python 3 (ipykernel)",
   "language": "python",
   "name": "python3"
  },
  "language_info": {
   "codemirror_mode": {
    "name": "ipython",
    "version": 3
   },
   "file_extension": ".py",
   "mimetype": "text/x-python",
   "name": "python",
   "nbconvert_exporter": "python",
   "pygments_lexer": "ipython3",
   "version": "3.9.13"
  }
 },
 "nbformat": 4,
 "nbformat_minor": 5
}
